{
 "cells": [
  {
   "cell_type": "markdown",
   "metadata": {},
   "source": [
    "# **Bootstrap Sampling from Two Gaussian Distributions**\n",
    "\n",
    "### The Problem\n",
    "\n",
    "Rafael Nadal and Novak Djokovic are playing each other in the next US Open final.  You have been asked to price up the Most Aces market (who will hit the most aces in the match).  You have access to historical data (both have played around 1200 career matches).\n",
    "\n",
    "Matches on different court surfaces generally yield different numbers of aces, more aces on grass, fewer on hard court, fewer still on clay. Other factors may also impact, say indoor v outdoor.  Lets assume you can and have accurately rebased all your historical data points as if they were played in the revelvant conditions (outdoor hard court, 5 set match). \n",
    "\n",
    "From your modified dataset you have determined the underlying distribution of aces for each player are Gaussian (normal) distributions. Lets make the simplifying assumption that the distributions are independent of each other.  Lets say they have the following parameters:\n",
    "\n",
    "Rafa Gaussian -  $\\mu = 10, \\sigma = 1.5$\n",
    "\n",
    "Djokovic Gaussian -  $\\mu = 12, \\sigma = 2.5$\n",
    "\n",
    "From this how would you estimate the pre match odds for the Most Aces market if:\n",
    "\n",
    "    1). You have all 1200 data points and you use them once?\n",
    "    \n",
    "    2). You have all 1200 data points and you can sample from them more than once?\n",
    "    \n",
    "    3). The same players were rookies and you only had 20 available data points from the sample?\n",
    "\n",
    "\n",
    "\n",
    "### Generate the Distributions\n",
    "\n",
    "First lets generate the two distributions."
   ]
  },
  {
   "cell_type": "code",
   "execution_count": 143,
   "metadata": {},
   "outputs": [],
   "source": [
    "import pandas as pd\n",
    "import numpy as np\n",
    "\n",
    "# For repeatability\n",
    "np.random.seed(seed=10)\n",
    "\n",
    "# State the distribution parameters\n",
    "rafa_mu = 10\n",
    "rafa_sd = 1.5\n",
    "djoko_mu = 12\n",
    "djoko_sd = 2.5\n",
    "\n",
    "# Generate the distributions\n",
    "rafa_dist = np.random.normal(rafa_mu, rafa_sd, 1200)\n",
    "djoko_dist = np.random.normal(djoko_mu, djoko_sd, 1200)\n",
    "\n",
    "# Save distributions in a df (easier for visualisations later)\n",
    "dist_df = pd.DataFrame(list(zip(rafa_dist, djoko_dist)),\n",
    "                      columns = ['Rafa Aces', 'Djoko Aces'])"
   ]
  },
  {
   "cell_type": "markdown",
   "metadata": {},
   "source": [
    "### View the Distributions"
   ]
  },
  {
   "cell_type": "code",
   "execution_count": 144,
   "metadata": {},
   "outputs": [
    {
     "data": {
      "image/png": "[encoded data removed]",
      "text/plain": [
       "<Figure size 666.75x288 with 1 Axes>"
      ]
     },
     "metadata": {
      "needs_background": "light"
     },
     "output_type": "display_data"
    }
   ],
   "source": [
    "import matplotlib.pyplot as plt\n",
    "import seaborn as sns\n",
    "\n",
    "# Seaborn distribution plot\n",
    "sns.displot(dist_df, kind='hist', stat = 'density', kde=True, height=4, aspect=2)\n",
    "plt.title(\"Aces Distributions\")\n",
    "plt.xlabel(\"Aces\")\n",
    "plt.show()"
   ]
  },
  {
   "cell_type": "markdown",
   "metadata": {},
   "source": [
    "This figure shows a histogram of the distribution of each players aces from their respective sample distributions, with a kernel density estimate (KDE) plot overlayed.  The KDE plots are not the exact normal distribution curves but in this case are acting as an approximation of one given we know the underlying samples came from a normal distribution.\n",
    "\n",
    "Given our distribution parameters, as expected we can see that Rafas Aces samples cluster tighter around his mean of 10, while Djokovic has a wider variation around his higher mean of 12.\n",
    "\n",
    "## Calculate the Most Aces Probability \n",
    "\n",
    "### Attempt 1 - Use all data points once only\n",
    "\n",
    "To begin lets use sampling without replacement.\n"
   ]
  },
  {
   "cell_type": "code",
   "execution_count": 145,
   "metadata": {},
   "outputs": [
    {
     "name": "stdout",
     "output_type": "stream",
     "text": [
      "Nadal trial wins = 309\n",
      "Djokovic trial wins = 891\n"
     ]
    }
   ],
   "source": [
    "# Set up and run trials\n",
    "# For repeatability\n",
    "np.random.seed(seed=10)\n",
    "\n",
    "#Set up counts\n",
    "rafa_win_1 = 0\n",
    "djoko_win_1 = 0\n",
    "\n",
    "# 1). Randomly sample from each list without replacement\n",
    "rafa_list_1 = np.random.choice(rafa_dist, 1200, replace=False)\n",
    "djoko_list_1 = np.random.choice(djoko_dist, 1200, replace=False)\n",
    "\n",
    "length_1 = len(rafa_list_1)\n",
    "\n",
    "for i in range(length_1):\n",
    "    if rafa_list_1[i] > djoko_list_1[i]:\n",
    "        rafa_win_1 = rafa_win_1 + 1\n",
    "    else:\n",
    "        djoko_win_1 = djoko_win_1 + 1\n",
    "        \n",
    "print(\"Nadal trial wins =\",rafa_win_1)\n",
    "print(\"Djokovic trial wins =\",djoko_win_1)"
   ]
  },
  {
   "cell_type": "markdown",
   "metadata": {},
   "source": [
    "Now lets calculate the implied probability and convert to decimal odds."
   ]
  },
  {
   "cell_type": "code",
   "execution_count": 146,
   "metadata": {},
   "outputs": [
    {
     "name": "stdout",
     "output_type": "stream",
     "text": [
      "Nadal implied probability = 0.2575\n",
      "Djokovic implied probability = 0.7425\n"
     ]
    }
   ],
   "source": [
    "# Calculate implied probability\n",
    "rafa_prob_1 = rafa_win_1/length_1\n",
    "djoko_prob_1 = djoko_win_1/length_1\n",
    "\n",
    "print(\"Nadal implied probability =\", rafa_prob_1)\n",
    "print(\"Djokovic implied probability =\", djoko_prob_1)"
   ]
  },
  {
   "cell_type": "markdown",
   "metadata": {},
   "source": [
    "For a 100% book the conversion to decimal odds is as follows:"
   ]
  },
  {
   "cell_type": "code",
   "execution_count": 147,
   "metadata": {},
   "outputs": [
    {
     "name": "stdout",
     "output_type": "stream",
     "text": [
      "Nadal Odds = 3.88\n",
      "Djokovic Odds = 1.35\n"
     ]
    }
   ],
   "source": [
    "# Calculate decimal odds\n",
    "rafa_odds_1 = (1/rafa_prob_1)\n",
    "djoko_odds_1 = (1/djoko_prob_1)\n",
    "print(\"Nadal Odds = {:.2f}\".format(rafa_odds_1))\n",
    "print(\"Djokovic Odds = {:.2f}\".format(djoko_odds_1))"
   ]
  },
  {
   "cell_type": "markdown",
   "metadata": {},
   "source": [
    "We have caclulated that Djokovic should be the favourite with a price of 1.35 in decimal odds.\n",
    "\n",
    "### Attempt 2 - Bootstrap sampling from all the data points\n",
    "\n",
    "Sampling with replacement.  A data point used for sampling stays in the dataset and could be selected again."
   ]
  },
  {
   "cell_type": "code",
   "execution_count": 148,
   "metadata": {},
   "outputs": [
    {
     "name": "stdout",
     "output_type": "stream",
     "text": [
      "Nadal trial wins = 2547\n",
      "Djokovic trial wins = 7453\n"
     ]
    }
   ],
   "source": [
    "# Set up and run trials\n",
    "# For repeatability\n",
    "np.random.seed(seed=10)\n",
    "\n",
    "#Set up counts\n",
    "rafa_win_2 = 0\n",
    "djoko_win_2 = 0\n",
    "\n",
    "# 2). Randomly sample from each list with replacement. 'replace=True' is the default but I've stated just to highlight.\n",
    "rafa_list_2 = np.random.choice(rafa_dist, 10000, replace=True)\n",
    "djoko_list_2 = np.random.choice(djoko_dist, 10000, replace=True)\n",
    "  \n",
    "length_2 = len(rafa_list_2)\n",
    "\n",
    "for i in range(length_2):\n",
    "    if rafa_list_2[i] > djoko_list_2[i]:\n",
    "        rafa_win_2 = rafa_win_2 + 1\n",
    "    else:\n",
    "        djoko_win_2 = djoko_win_2 + 1\n",
    "        \n",
    "print(\"Nadal trial wins =\",rafa_win_2)\n",
    "print(\"Djokovic trial wins =\",djoko_win_2)"
   ]
  },
  {
   "cell_type": "markdown",
   "metadata": {},
   "source": [
    "Calculate implied probability and convert to decimal odds."
   ]
  },
  {
   "cell_type": "code",
   "execution_count": 149,
   "metadata": {},
   "outputs": [
    {
     "name": "stdout",
     "output_type": "stream",
     "text": [
      "Nadal implied probability = 0.2547\n",
      "Djokovic implied probability = 0.7453\n",
      "Nadal Odds = 3.93\n",
      "Djokovic Odds = 1.34\n"
     ]
    }
   ],
   "source": [
    "# Calculate implied probability\n",
    "rafa_prob_2 = rafa_win_2/length_2\n",
    "djoko_prob_2 = djoko_win_2/length_2\n",
    "\n",
    "print(\"Nadal implied probability =\", rafa_prob_2)\n",
    "print(\"Djokovic implied probability =\", djoko_prob_2)\n",
    "\n",
    "# Calculate decimal odds\n",
    "rafa_odds_2 = (1/rafa_prob_2)\n",
    "djoko_odds_2 = (1/djoko_prob_2)\n",
    "\n",
    "print(\"Nadal Odds = {:.2f}\".format(rafa_odds_2))\n",
    "print(\"Djokovic Odds = {:.2f}\".format(djoko_odds_2))"
   ]
  },
  {
   "cell_type": "markdown",
   "metadata": {},
   "source": [
    "With over 8 times as much synthetic data now available the calculated odds are almost the same 1.34, to 1.35 for Djokovic's favourite price.  This suggests the initial sample size was large enough to be robust on its own.\n",
    "\n",
    "### Attempt  3 - Bootstrap sampling from a smaller dataset\n",
    "\n",
    "What if instead of two very experienced players with 1200 data points each you had to calculate the odds when they were both rookies?  Lets say they had only played 20 tour matches each."
   ]
  },
  {
   "cell_type": "code",
   "execution_count": 150,
   "metadata": {},
   "outputs": [
    {
     "name": "stdout",
     "output_type": "stream",
     "text": [
      "Rookie Nadal trial wins = 5217\n",
      "Rookie Djokovic trial wins = 14783\n",
      "Rookie Nadal implied probability with bootstrapping = 0.26085\n",
      "Rookie Djokovic implied probability with bootstrapping= 0.73915\n",
      "Rookie Nadal Odds with bootstrapping = 3.83\n",
      "Rookie Djokovic Odds with bootstrapping = 1.35\n"
     ]
    }
   ],
   "source": [
    "# For repeatability\n",
    "np.random.seed(seed=10)\n",
    "data_points = 20\n",
    "\n",
    "# Select 20 random data points for each rookie from the rafa/djoko distributions to act as their rookie career data\n",
    "rookie1_data = np.random.choice(rafa_dist, data_points, replace=False)\n",
    "rookie2_data = np.random.choice(djoko_dist, data_points, replace=False)\n",
    "\n",
    "# Set up empty lists\n",
    "rookie1_wins_bs = 0\n",
    "rookie2_wins_bs = 0\n",
    "\n",
    "# State number of samples to use\n",
    "num_samples = 20\n",
    "# State number of times to bootstrap\n",
    "num_rounds = 1000\n",
    "\n",
    "# Randomly sample from each list with replacement. This is the default but I've stated 'replace=True' just to highlight.\n",
    "for i in range(num_rounds):\n",
    "    rookie1_bs = np.random.choice(rookie1_data, num_samples, replace=True)\n",
    "    rookie2_bs = np.random.choice(rookie2_data, num_samples, replace=True)\n",
    "    \n",
    "    for j in range(num_samples):\n",
    "        if rookie1_bs[j] > rookie2_bs[j]:\n",
    "            rookie1_wins_bs = rookie1_wins_bs + 1\n",
    "        else:\n",
    "            rookie2_wins_bs = rookie2_wins_bs + 1\n",
    "\n",
    "    \n",
    "print(\"Rookie Nadal trial wins =\",rookie1_wins_bs)\n",
    "print(\"Rookie Djokovic trial wins =\",rookie2_wins_bs)\n",
    "\n",
    "# Calculate implied probability\n",
    "rookie1_prob_bs = rookie1_wins_bs/(num_samples*num_rounds)\n",
    "rookie2_prob_bs = rookie2_wins_bs/(num_samples*num_rounds)\n",
    "\n",
    "print(\"Rookie Nadal implied probability with bootstrapping =\", rookie1_prob_bs)\n",
    "print(\"Rookie Djokovic implied probability with bootstrapping=\", rookie2_prob_bs)\n",
    "\n",
    "# Calculate decimal odds\n",
    "rookie1_odds_bs = (1/rookie1_prob_bs)\n",
    "rookie2_odds_bs = (1/rookie2_prob_bs)\n",
    "\n",
    "print(\"Rookie Nadal Odds with bootstrapping = {:.2f}\".format(rookie1_odds_bs))\n",
    "print(\"Rookie Djokovic Odds with bootstrapping = {:.2f}\".format(rookie2_odds_bs))"
   ]
  },
  {
   "cell_type": "markdown",
   "metadata": {},
   "source": [
    "Well this is encouraging. In this case just one set of 20 random samples from each of the underlying distributions was enough with bootstrapping to calculate virtually the same underlying probability and odds produced by the complete dataset.\n",
    "\n",
    "### Conclusion\n",
    "\n",
    "In this simplified case of two independent Gaussian distributions the use of bootstrapping generated an accurate estimate of probability/odds despite only having access to a relatively small dataset.\n",
    "\n",
    "For players with even fewer matches bootstrapping will still help but will get progressively less robust.  In these cases it may be better if you have a suitable dataset of all players to try and benchmark your rookie against his peers, perhaps using a machine learning technique such as clustering.  You could then infer what a larger sample of the players results might look like to reach the threshold for effective bootstrapping.  Benchmarking by clustering is something I'll look to explore in a future post."
   ]
  }
 ],
 "metadata": {
  "kernelspec": {
   "display_name": "Python 3 (ipykernel)",
   "language": "python",
   "name": "python3"
  },
  "language_info": {
   "codemirror_mode": {
    "name": "ipython",
    "version": 3
   },
   "file_extension": ".py",
   "mimetype": "text/x-python",
   "name": "python",
   "nbconvert_exporter": "python",
   "pygments_lexer": "ipython3",
   "version": "3.7.11"
  }
 },
 "nbformat": 4,
 "nbformat_minor": 2
}
